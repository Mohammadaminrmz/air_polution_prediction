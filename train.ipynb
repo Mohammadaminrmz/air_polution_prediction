{
 "cells": [
  {
   "cell_type": "code",
   "execution_count": 1,
   "metadata": {
    "pycharm": {
     "is_executing": false
    }
   },
   "outputs": [
    {
     "name": "stdout",
     "output_type": "stream",
     "text": [
      "2.11.0\n"
     ]
    }
   ],
   "source": [
    "from sklearn.preprocessing import MinMaxScaler\n",
    "import pandas as pd\n",
    "import matplotlib.pyplot as plt\n",
    "import tensorflow as tf\n",
    "import numpy as np\n",
    "import math\n",
    "import datetime \n",
    "%load_ext tensorboard\n",
    "print(tf.version.VERSION)"
   ]
  },
  {
   "cell_type": "code",
   "execution_count": 8,
   "metadata": {
    "pycharm": {
     "is_executing": false,
     "name": "#%%\n"
    }
   },
   "outputs": [],
   "source": [
    "def tf_dataset(series_x, series_y, batch_size, shuffle_buffer, shuffle=True):\n",
    "    ds = tf.data.Dataset.from_tensor_slices((series_x, series_y))\n",
    "    if shuffle:\n",
    "        ds = ds.cache().shuffle(shuffle_buffer).batch(batch_size).repeat()\n",
    "    else:\n",
    "        ds = ds.cache().batch(batch_size).repeat()\n",
    "\n",
    "    return ds\n",
    "\n",
    "def create_window_dataset(ds, lb, window_size):\n",
    "    windowed_dataset = []\n",
    "    labels = []\n",
    "    for i in range(window_size, ds.shape[0] + 1):\n",
    "        windowed_dataset.append(ds[i - window_size:i])\n",
    "        labels.append(lb[i - 1])\n",
    "        \n",
    "    return np.array(windowed_dataset), np.array(labels)\n",
    "\n",
    "def get_metrics_result(metrics, true_labels, predicted_labels):    \n",
    "    metrics_result = []\n",
    "    for metric in metrics:\n",
    "        metric.reset_states()\n",
    "        metric.update_state(true_labels, predicted_labels)\n",
    "        metrics_result.append(metric.result().numpy())\n",
    "    \n",
    "    return metrics_result"
   ]
  },
  {
   "cell_type": "code",
   "execution_count": 16,
   "metadata": {},
   "outputs": [],
   "source": [
    "df = pd.read_csv(\"Cleaned_df.csv\" , parse_dates= [\"date\"] , index_col= \"date\")\n",
    "rows , cols = df.shape\n",
    "index_80_percent = int(rows*0.8)\n",
    "\n",
    "Train_set = df.iloc[: index_80_percent].copy()\n",
    "Test_set = df.iloc[index_80_percent :].copy()\n",
    "\n",
    "lbl = Train_set[\"PM2.5 Aoti\"]\n",
    "Train_set.drop(\"PM2.5 Aoti\" ,axis=1,inplace=True)\n",
    "Train_set = pd.concat((Train_set , lbl) ,axis=1)\n",
    "\n",
    "lbl = Test_set[\"PM2.5 Aoti\"]\n",
    "Test_set.drop(\"PM2.5 Aoti\" ,axis=1,inplace=True)\n",
    "Test_set = pd.concat((Test_set , lbl) ,axis=1)\n",
    "\n",
    "Train_set_np = Train_set.to_numpy()\n",
    "Test_set_np = Test_set.to_numpy()"
   ]
  },
  {
   "cell_type": "code",
   "execution_count": 29,
   "metadata": {},
   "outputs": [],
   "source": []
  },
  {
   "cell_type": "code",
   "execution_count": 30,
   "metadata": {},
   "outputs": [],
   "source": [
    "BATCH_SIZE = 64\n",
    "WINDOW_SIZE = 15\n",
    "SHUFFLE_BUFFER = 1000\n",
    "\n",
    "\n",
    "windowed_Train , labels_Train = create_window_dataset(Train_set_np[:,:-1] , Train_set_np[:,-1], window_size=WINDOW_SIZE)\n",
    "train_set = tf_dataset(windowed_Train, labels_Train, batch_size = BATCH_SIZE,shuffle_buffer = SHUFFLE_BUFFER,shuffle=True)\n",
    "\n",
    "windowed_Test , labels_Test = create_window_dataset(Test_set_np[:,:-1] , Test_set_np[:,-1],window_size=WINDOW_SIZE)\n",
    "test_set = tf_dataset(windowed_Test, labels_Test, batch_size = BATCH_SIZE,shuffle_buffer = SHUFFLE_BUFFER,shuffle=True)"
   ]
  },
  {
   "attachments": {},
   "cell_type": "markdown",
   "metadata": {},
   "source": [
    "# Create Model"
   ]
  },
  {
   "cell_type": "code",
   "execution_count": 32,
   "metadata": {},
   "outputs": [
    {
     "name": "stdout",
     "output_type": "stream",
     "text": [
      "Model: \"sequential\"\n",
      "_________________________________________________________________\n",
      " Layer (type)                Output Shape              Param #   \n",
      "=================================================================\n",
      " conv1d (Conv1D)             (None, 15, 64)            6144      \n",
      "                                                                 \n",
      " max_pooling1d (MaxPooling1D  (None, 14, 64)           0         \n",
      " )                                                               \n",
      "                                                                 \n",
      " conv1d_1 (Conv1D)           (None, 14, 32)            6176      \n",
      "                                                                 \n",
      " max_pooling1d_1 (MaxPooling  (None, 13, 32)           0         \n",
      " 1D)                                                             \n",
      "                                                                 \n",
      " lstm (LSTM)                 (None, 13, 128)           82432     \n",
      "                                                                 \n",
      " lstm_1 (LSTM)               (None, 13, 128)           131584    \n",
      "                                                                 \n",
      " flatten (Flatten)           (None, 1664)              0         \n",
      "                                                                 \n",
      " dense (Dense)               (None, 64)                106560    \n",
      "                                                                 \n",
      " dropout (Dropout)           (None, 64)                0         \n",
      "                                                                 \n",
      " dense_1 (Dense)             (None, 16)                1040      \n",
      "                                                                 \n",
      " dropout_1 (Dropout)         (None, 16)                0         \n",
      "                                                                 \n",
      " dense_2 (Dense)             (None, 1)                 17        \n",
      "                                                                 \n",
      "=================================================================\n",
      "Total params: 333,953\n",
      "Trainable params: 333,953\n",
      "Non-trainable params: 0\n",
      "_________________________________________________________________\n"
     ]
    }
   ],
   "source": [
    "tf.keras.backend.clear_session()\n",
    "\n",
    "model = tf.keras.models.Sequential([\n",
    "    tf.keras.layers.Conv1D(filters=64,\n",
    "                           kernel_size=5,\n",
    "                           strides=1,\n",
    "                           padding=\"causal\",\n",
    "                           activation=\"relu\",\n",
    "                           input_shape=windowed_Train.shape[-2:]),\n",
    "    tf.keras.layers.MaxPooling1D(pool_size=2, strides=1, padding=\"valid\"),\n",
    "    tf.keras.layers.Conv1D(filters=32, kernel_size=3, strides=1, padding=\"causal\", activation=\"relu\"),\n",
    "    tf.keras.layers.MaxPooling1D(pool_size=2, strides=1, padding=\"valid\"),\n",
    "    tf.keras.layers.LSTM(128, return_sequences=True),\n",
    "    tf.keras.layers.LSTM(128, return_sequences=True),\n",
    "    tf.keras.layers.Flatten(),\n",
    "    tf.keras.layers.Dense(64, activation=\"relu\"),\n",
    "    tf.keras.layers.Dropout(0.2),\n",
    "    tf.keras.layers.Dense(16, activation=\"relu\"),\n",
    "    tf.keras.layers.Dropout(0.1),\n",
    "    tf.keras.layers.Dense(1)\n",
    "])\n",
    "\n",
    "lr_schedule = tf.keras.optimizers.schedules.ExponentialDecay(1e-4,\n",
    "                                                             decay_steps=100000,\n",
    "                                                             decay_rate=0.98,\n",
    "                                                             staircase=False)\n",
    "\n",
    "model.compile(loss=tf.keras.losses.MeanSquaredError(),\n",
    "              optimizer=tf.keras.optimizers.SGD(learning_rate=lr_schedule, momentum=0.8),\n",
    "              metrics=['mae'])\n",
    "model.summary()"
   ]
  },
  {
   "cell_type": "code",
   "execution_count": 35,
   "metadata": {},
   "outputs": [],
   "source": [
    "TRAIN_STEP = math.ceil(windowed_Train.shape[0] / BATCH_SIZE)\n",
    "VALIDATION_STEP = math.ceil(windowed_Test.shape[0] / BATCH_SIZE)"
   ]
  },
  {
   "cell_type": "code",
   "execution_count": 39,
   "metadata": {},
   "outputs": [
    {
     "name": "stdout",
     "output_type": "stream",
     "text": [
      "Epoch 1/1000\n",
      "439/439 [==============================] - 50s 113ms/step - loss: 6897.0713 - mae: 60.5063 - val_loss: 7157.1631 - val_mae: 57.5067\n",
      "Epoch 2/1000\n",
      "439/439 [==============================] - 47s 108ms/step - loss: 6642.5630 - mae: 59.8499 - val_loss: 7036.4653 - val_mae: 58.6915\n",
      "Epoch 3/1000\n",
      "439/439 [==============================] - 47s 107ms/step - loss: 6632.2954 - mae: 59.8139 - val_loss: 6997.3970 - val_mae: 60.0933\n",
      "Epoch 4/1000\n",
      "439/439 [==============================] - 47s 108ms/step - loss: 6590.7598 - mae: 59.7625 - val_loss: 7082.9614 - val_mae: 58.0786\n",
      "Epoch 5/1000\n",
      "439/439 [==============================] - 47s 107ms/step - loss: 6592.8882 - mae: 59.8975 - val_loss: 7038.2603 - val_mae: 58.6603\n",
      "Epoch 6/1000\n",
      "439/439 [==============================] - 46s 106ms/step - loss: 6592.5210 - mae: 59.8927 - val_loss: 7052.1875 - val_mae: 58.4455\n",
      "Epoch 7/1000\n",
      "439/439 [==============================] - 47s 107ms/step - loss: 6599.9761 - mae: 59.7952 - val_loss: 7051.6001 - val_mae: 58.4538\n",
      "Epoch 8/1000\n",
      "439/439 [==============================] - 48s 108ms/step - loss: 6609.8237 - mae: 59.9689 - val_loss: 7086.0645 - val_mae: 58.0473\n",
      "Epoch 9/1000\n",
      "439/439 [==============================] - 48s 109ms/step - loss: 6590.5864 - mae: 59.7903 - val_loss: 7057.0186 - val_mae: 58.3785\n",
      "Epoch 10/1000\n",
      "439/439 [==============================] - 48s 109ms/step - loss: 6597.5005 - mae: 59.9412 - val_loss: 7028.0303 - val_mae: 58.8500\n",
      "Epoch 11/1000\n",
      "439/439 [==============================] - 49s 111ms/step - loss: 6596.9219 - mae: 59.9617 - val_loss: 7107.5010 - val_mae: 57.8533\n",
      "Epoch 12/1000\n",
      "439/439 [==============================] - 49s 112ms/step - loss: 6619.5820 - mae: 59.9055 - val_loss: 7050.5088 - val_mae: 58.4695\n",
      "Epoch 13/1000\n",
      "439/439 [==============================] - 49s 112ms/step - loss: 6618.9717 - mae: 59.9347 - val_loss: 7014.5088 - val_mae: 59.1758\n",
      "Epoch 14/1000\n",
      "439/439 [==============================] - 49s 112ms/step - loss: 6589.3140 - mae: 59.8957 - val_loss: 7104.6396 - val_mae: 57.8776\n",
      "Epoch 15/1000\n",
      "439/439 [==============================] - 50s 113ms/step - loss: 6596.8521 - mae: 59.7817 - val_loss: 7034.7705 - val_mae: 58.7215\n",
      "Epoch 16/1000\n",
      "439/439 [==============================] - 50s 115ms/step - loss: 6577.1162 - mae: 59.8460 - val_loss: 7049.9199 - val_mae: 58.4780\n",
      "Epoch 17/1000\n",
      "439/439 [==============================] - 51s 116ms/step - loss: 6582.5640 - mae: 59.7248 - val_loss: 7034.0151 - val_mae: 58.7351\n",
      "Epoch 18/1000\n",
      "439/439 [==============================] - 51s 115ms/step - loss: 6607.7607 - mae: 59.8831 - val_loss: 7023.5806 - val_mae: 58.9458\n",
      "Epoch 19/1000\n",
      "439/439 [==============================] - 51s 116ms/step - loss: 6582.6851 - mae: 59.8393 - val_loss: 7086.6826 - val_mae: 58.0411\n",
      "Epoch 20/1000\n",
      "439/439 [==============================] - 51s 117ms/step - loss: 6604.6851 - mae: 59.8454 - val_loss: 7057.5620 - val_mae: 58.3715\n",
      "Epoch 21/1000\n",
      "439/439 [==============================] - 52s 118ms/step - loss: 6612.9673 - mae: 59.9317 - val_loss: 7059.6982 - val_mae: 58.3442\n",
      "Epoch 22/1000\n",
      "439/439 [==============================] - 52s 118ms/step - loss: 6601.6890 - mae: 59.9139 - val_loss: 7012.0176 - val_mae: 59.2505\n",
      "Epoch 23/1000\n",
      "439/439 [==============================] - 54s 123ms/step - loss: 6596.7969 - mae: 59.8495 - val_loss: 7005.4209 - val_mae: 59.4944\n",
      "Epoch 24/1000\n",
      "439/439 [==============================] - 52s 119ms/step - loss: 6581.5757 - mae: 59.9034 - val_loss: 7068.9814 - val_mae: 58.2304\n",
      "Epoch 25/1000\n",
      "439/439 [==============================] - 52s 119ms/step - loss: 6595.2827 - mae: 59.7952 - val_loss: 7012.8418 - val_mae: 59.2251\n",
      "Epoch 26/1000\n",
      "439/439 [==============================] - 54s 122ms/step - loss: 6601.5093 - mae: 59.9018 - val_loss: 7054.6216 - val_mae: 58.4113\n",
      "Epoch 27/1000\n",
      "439/439 [==============================] - 54s 123ms/step - loss: 6587.2256 - mae: 59.8100 - val_loss: 7050.0522 - val_mae: 58.4761\n",
      "Epoch 28/1000\n",
      "301/439 [===================>..........] - ETA: 16s - loss: 6073.1211 - mae: 58.7175"
     ]
    },
    {
     "ename": "KeyboardInterrupt",
     "evalue": "",
     "output_type": "error",
     "traceback": [
      "\u001b[1;31m---------------------------------------------------------------------------\u001b[0m",
      "\u001b[1;31mKeyboardInterrupt\u001b[0m                         Traceback (most recent call last)",
      "Cell \u001b[1;32mIn[39], line 4\u001b[0m\n\u001b[0;32m      1\u001b[0m log_dir \u001b[39m=\u001b[39m \u001b[39m\"\u001b[39m\u001b[39mlogs\u001b[39m\u001b[39m\\\\\u001b[39;00m\u001b[39m\"\u001b[39m \u001b[39m+\u001b[39m datetime\u001b[39m.\u001b[39mdatetime\u001b[39m.\u001b[39mnow()\u001b[39m.\u001b[39mstrftime(\u001b[39m\"\u001b[39m\u001b[39m%d\u001b[39;00m\u001b[39m-\u001b[39m\u001b[39m%\u001b[39m\u001b[39mm-\u001b[39m\u001b[39m%\u001b[39m\u001b[39mY_\u001b[39m\u001b[39m%\u001b[39m\u001b[39mH\u001b[39m\u001b[39m%\u001b[39m\u001b[39mM\u001b[39m\u001b[39m%\u001b[39m\u001b[39mS\u001b[39m\u001b[39m\"\u001b[39m)\n\u001b[0;32m      2\u001b[0m tensorboard_callback \u001b[39m=\u001b[39m tf\u001b[39m.\u001b[39mkeras\u001b[39m.\u001b[39mcallbacks\u001b[39m.\u001b[39mTensorBoard(log_dir\u001b[39m=\u001b[39mlog_dir, histogram_freq\u001b[39m=\u001b[39m\u001b[39m1\u001b[39m)\n\u001b[1;32m----> 4\u001b[0m history \u001b[39m=\u001b[39m model\u001b[39m.\u001b[39;49mfit(train_set,\n\u001b[0;32m      5\u001b[0m                     epochs\u001b[39m=\u001b[39;49m\u001b[39m1000\u001b[39;49m,\n\u001b[0;32m      6\u001b[0m                     steps_per_epoch\u001b[39m=\u001b[39;49mTRAIN_STEP,\n\u001b[0;32m      7\u001b[0m                     validation_data\u001b[39m=\u001b[39;49mtest_set,\n\u001b[0;32m      8\u001b[0m                     validation_steps\u001b[39m=\u001b[39;49mVALIDATION_STEP,\n\u001b[0;32m      9\u001b[0m                     verbose\u001b[39m=\u001b[39;49m\u001b[39m1\u001b[39;49m,\n\u001b[0;32m     10\u001b[0m                     callbacks\u001b[39m=\u001b[39;49m[tensorboard_callback])\n",
      "File \u001b[1;32mc:\\Users\\aminr\\freelance\\Project_air_polution\\NNDL-HW4\\air polution\\air_polution_prediction\\venv\\lib\\site-packages\\keras\\utils\\traceback_utils.py:65\u001b[0m, in \u001b[0;36mfilter_traceback.<locals>.error_handler\u001b[1;34m(*args, **kwargs)\u001b[0m\n\u001b[0;32m     63\u001b[0m filtered_tb \u001b[39m=\u001b[39m \u001b[39mNone\u001b[39;00m\n\u001b[0;32m     64\u001b[0m \u001b[39mtry\u001b[39;00m:\n\u001b[1;32m---> 65\u001b[0m     \u001b[39mreturn\u001b[39;00m fn(\u001b[39m*\u001b[39margs, \u001b[39m*\u001b[39m\u001b[39m*\u001b[39mkwargs)\n\u001b[0;32m     66\u001b[0m \u001b[39mexcept\u001b[39;00m \u001b[39mException\u001b[39;00m \u001b[39mas\u001b[39;00m e:\n\u001b[0;32m     67\u001b[0m     filtered_tb \u001b[39m=\u001b[39m _process_traceback_frames(e\u001b[39m.\u001b[39m__traceback__)\n",
      "File \u001b[1;32mc:\\Users\\aminr\\freelance\\Project_air_polution\\NNDL-HW4\\air polution\\air_polution_prediction\\venv\\lib\\site-packages\\keras\\engine\\training.py:1650\u001b[0m, in \u001b[0;36mModel.fit\u001b[1;34m(self, x, y, batch_size, epochs, verbose, callbacks, validation_split, validation_data, shuffle, class_weight, sample_weight, initial_epoch, steps_per_epoch, validation_steps, validation_batch_size, validation_freq, max_queue_size, workers, use_multiprocessing)\u001b[0m\n\u001b[0;32m   1642\u001b[0m \u001b[39mwith\u001b[39;00m tf\u001b[39m.\u001b[39mprofiler\u001b[39m.\u001b[39mexperimental\u001b[39m.\u001b[39mTrace(\n\u001b[0;32m   1643\u001b[0m     \u001b[39m\"\u001b[39m\u001b[39mtrain\u001b[39m\u001b[39m\"\u001b[39m,\n\u001b[0;32m   1644\u001b[0m     epoch_num\u001b[39m=\u001b[39mepoch,\n\u001b[1;32m   (...)\u001b[0m\n\u001b[0;32m   1647\u001b[0m     _r\u001b[39m=\u001b[39m\u001b[39m1\u001b[39m,\n\u001b[0;32m   1648\u001b[0m ):\n\u001b[0;32m   1649\u001b[0m     callbacks\u001b[39m.\u001b[39mon_train_batch_begin(step)\n\u001b[1;32m-> 1650\u001b[0m     tmp_logs \u001b[39m=\u001b[39m \u001b[39mself\u001b[39;49m\u001b[39m.\u001b[39;49mtrain_function(iterator)\n\u001b[0;32m   1651\u001b[0m     \u001b[39mif\u001b[39;00m data_handler\u001b[39m.\u001b[39mshould_sync:\n\u001b[0;32m   1652\u001b[0m         context\u001b[39m.\u001b[39masync_wait()\n",
      "File \u001b[1;32mc:\\Users\\aminr\\freelance\\Project_air_polution\\NNDL-HW4\\air polution\\air_polution_prediction\\venv\\lib\\site-packages\\tensorflow\\python\\util\\traceback_utils.py:150\u001b[0m, in \u001b[0;36mfilter_traceback.<locals>.error_handler\u001b[1;34m(*args, **kwargs)\u001b[0m\n\u001b[0;32m    148\u001b[0m filtered_tb \u001b[39m=\u001b[39m \u001b[39mNone\u001b[39;00m\n\u001b[0;32m    149\u001b[0m \u001b[39mtry\u001b[39;00m:\n\u001b[1;32m--> 150\u001b[0m   \u001b[39mreturn\u001b[39;00m fn(\u001b[39m*\u001b[39margs, \u001b[39m*\u001b[39m\u001b[39m*\u001b[39mkwargs)\n\u001b[0;32m    151\u001b[0m \u001b[39mexcept\u001b[39;00m \u001b[39mException\u001b[39;00m \u001b[39mas\u001b[39;00m e:\n\u001b[0;32m    152\u001b[0m   filtered_tb \u001b[39m=\u001b[39m _process_traceback_frames(e\u001b[39m.\u001b[39m__traceback__)\n",
      "File \u001b[1;32mc:\\Users\\aminr\\freelance\\Project_air_polution\\NNDL-HW4\\air polution\\air_polution_prediction\\venv\\lib\\site-packages\\tensorflow\\python\\eager\\polymorphic_function\\polymorphic_function.py:880\u001b[0m, in \u001b[0;36mFunction.__call__\u001b[1;34m(self, *args, **kwds)\u001b[0m\n\u001b[0;32m    877\u001b[0m compiler \u001b[39m=\u001b[39m \u001b[39m\"\u001b[39m\u001b[39mxla\u001b[39m\u001b[39m\"\u001b[39m \u001b[39mif\u001b[39;00m \u001b[39mself\u001b[39m\u001b[39m.\u001b[39m_jit_compile \u001b[39melse\u001b[39;00m \u001b[39m\"\u001b[39m\u001b[39mnonXla\u001b[39m\u001b[39m\"\u001b[39m\n\u001b[0;32m    879\u001b[0m \u001b[39mwith\u001b[39;00m OptionalXlaContext(\u001b[39mself\u001b[39m\u001b[39m.\u001b[39m_jit_compile):\n\u001b[1;32m--> 880\u001b[0m   result \u001b[39m=\u001b[39m \u001b[39mself\u001b[39m\u001b[39m.\u001b[39m_call(\u001b[39m*\u001b[39margs, \u001b[39m*\u001b[39m\u001b[39m*\u001b[39mkwds)\n\u001b[0;32m    882\u001b[0m new_tracing_count \u001b[39m=\u001b[39m \u001b[39mself\u001b[39m\u001b[39m.\u001b[39mexperimental_get_tracing_count()\n\u001b[0;32m    883\u001b[0m without_tracing \u001b[39m=\u001b[39m (tracing_count \u001b[39m==\u001b[39m new_tracing_count)\n",
      "File \u001b[1;32mc:\\Users\\aminr\\freelance\\Project_air_polution\\NNDL-HW4\\air polution\\air_polution_prediction\\venv\\lib\\site-packages\\tensorflow\\python\\eager\\polymorphic_function\\polymorphic_function.py:912\u001b[0m, in \u001b[0;36mFunction._call\u001b[1;34m(self, *args, **kwds)\u001b[0m\n\u001b[0;32m    909\u001b[0m   \u001b[39mself\u001b[39m\u001b[39m.\u001b[39m_lock\u001b[39m.\u001b[39mrelease()\n\u001b[0;32m    910\u001b[0m   \u001b[39m# In this case we have created variables on the first call, so we run the\u001b[39;00m\n\u001b[0;32m    911\u001b[0m   \u001b[39m# defunned version which is guaranteed to never create variables.\u001b[39;00m\n\u001b[1;32m--> 912\u001b[0m   \u001b[39mreturn\u001b[39;00m \u001b[39mself\u001b[39m\u001b[39m.\u001b[39m_no_variable_creation_fn(\u001b[39m*\u001b[39margs, \u001b[39m*\u001b[39m\u001b[39m*\u001b[39mkwds)  \u001b[39m# pylint: disable=not-callable\u001b[39;00m\n\u001b[0;32m    913\u001b[0m \u001b[39melif\u001b[39;00m \u001b[39mself\u001b[39m\u001b[39m.\u001b[39m_variable_creation_fn \u001b[39mis\u001b[39;00m \u001b[39mnot\u001b[39;00m \u001b[39mNone\u001b[39;00m:\n\u001b[0;32m    914\u001b[0m   \u001b[39m# Release the lock early so that multiple threads can perform the call\u001b[39;00m\n\u001b[0;32m    915\u001b[0m   \u001b[39m# in parallel.\u001b[39;00m\n\u001b[0;32m    916\u001b[0m   \u001b[39mself\u001b[39m\u001b[39m.\u001b[39m_lock\u001b[39m.\u001b[39mrelease()\n",
      "File \u001b[1;32mc:\\Users\\aminr\\freelance\\Project_air_polution\\NNDL-HW4\\air polution\\air_polution_prediction\\venv\\lib\\site-packages\\tensorflow\\python\\eager\\polymorphic_function\\tracing_compiler.py:134\u001b[0m, in \u001b[0;36mTracingCompiler.__call__\u001b[1;34m(self, *args, **kwargs)\u001b[0m\n\u001b[0;32m    131\u001b[0m \u001b[39mwith\u001b[39;00m \u001b[39mself\u001b[39m\u001b[39m.\u001b[39m_lock:\n\u001b[0;32m    132\u001b[0m   (concrete_function,\n\u001b[0;32m    133\u001b[0m    filtered_flat_args) \u001b[39m=\u001b[39m \u001b[39mself\u001b[39m\u001b[39m.\u001b[39m_maybe_define_function(args, kwargs)\n\u001b[1;32m--> 134\u001b[0m \u001b[39mreturn\u001b[39;00m concrete_function\u001b[39m.\u001b[39;49m_call_flat(\n\u001b[0;32m    135\u001b[0m     filtered_flat_args, captured_inputs\u001b[39m=\u001b[39;49mconcrete_function\u001b[39m.\u001b[39;49mcaptured_inputs)\n",
      "File \u001b[1;32mc:\\Users\\aminr\\freelance\\Project_air_polution\\NNDL-HW4\\air polution\\air_polution_prediction\\venv\\lib\\site-packages\\tensorflow\\python\\eager\\polymorphic_function\\monomorphic_function.py:1745\u001b[0m, in \u001b[0;36mConcreteFunction._call_flat\u001b[1;34m(self, args, captured_inputs, cancellation_manager)\u001b[0m\n\u001b[0;32m   1741\u001b[0m possible_gradient_type \u001b[39m=\u001b[39m gradients_util\u001b[39m.\u001b[39mPossibleTapeGradientTypes(args)\n\u001b[0;32m   1742\u001b[0m \u001b[39mif\u001b[39;00m (possible_gradient_type \u001b[39m==\u001b[39m gradients_util\u001b[39m.\u001b[39mPOSSIBLE_GRADIENT_TYPES_NONE\n\u001b[0;32m   1743\u001b[0m     \u001b[39mand\u001b[39;00m executing_eagerly):\n\u001b[0;32m   1744\u001b[0m   \u001b[39m# No tape is watching; skip to running the function.\u001b[39;00m\n\u001b[1;32m-> 1745\u001b[0m   \u001b[39mreturn\u001b[39;00m \u001b[39mself\u001b[39m\u001b[39m.\u001b[39m_build_call_outputs(\u001b[39mself\u001b[39;49m\u001b[39m.\u001b[39;49m_inference_function\u001b[39m.\u001b[39;49mcall(\n\u001b[0;32m   1746\u001b[0m       ctx, args, cancellation_manager\u001b[39m=\u001b[39;49mcancellation_manager))\n\u001b[0;32m   1747\u001b[0m forward_backward \u001b[39m=\u001b[39m \u001b[39mself\u001b[39m\u001b[39m.\u001b[39m_select_forward_and_backward_functions(\n\u001b[0;32m   1748\u001b[0m     args,\n\u001b[0;32m   1749\u001b[0m     possible_gradient_type,\n\u001b[0;32m   1750\u001b[0m     executing_eagerly)\n\u001b[0;32m   1751\u001b[0m forward_function, args_with_tangents \u001b[39m=\u001b[39m forward_backward\u001b[39m.\u001b[39mforward()\n",
      "File \u001b[1;32mc:\\Users\\aminr\\freelance\\Project_air_polution\\NNDL-HW4\\air polution\\air_polution_prediction\\venv\\lib\\site-packages\\tensorflow\\python\\eager\\polymorphic_function\\monomorphic_function.py:378\u001b[0m, in \u001b[0;36m_EagerDefinedFunction.call\u001b[1;34m(self, ctx, args, cancellation_manager)\u001b[0m\n\u001b[0;32m    376\u001b[0m \u001b[39mwith\u001b[39;00m _InterpolateFunctionError(\u001b[39mself\u001b[39m):\n\u001b[0;32m    377\u001b[0m   \u001b[39mif\u001b[39;00m cancellation_manager \u001b[39mis\u001b[39;00m \u001b[39mNone\u001b[39;00m:\n\u001b[1;32m--> 378\u001b[0m     outputs \u001b[39m=\u001b[39m execute\u001b[39m.\u001b[39;49mexecute(\n\u001b[0;32m    379\u001b[0m         \u001b[39mstr\u001b[39;49m(\u001b[39mself\u001b[39;49m\u001b[39m.\u001b[39;49msignature\u001b[39m.\u001b[39;49mname),\n\u001b[0;32m    380\u001b[0m         num_outputs\u001b[39m=\u001b[39;49m\u001b[39mself\u001b[39;49m\u001b[39m.\u001b[39;49m_num_outputs,\n\u001b[0;32m    381\u001b[0m         inputs\u001b[39m=\u001b[39;49margs,\n\u001b[0;32m    382\u001b[0m         attrs\u001b[39m=\u001b[39;49mattrs,\n\u001b[0;32m    383\u001b[0m         ctx\u001b[39m=\u001b[39;49mctx)\n\u001b[0;32m    384\u001b[0m   \u001b[39melse\u001b[39;00m:\n\u001b[0;32m    385\u001b[0m     outputs \u001b[39m=\u001b[39m execute\u001b[39m.\u001b[39mexecute_with_cancellation(\n\u001b[0;32m    386\u001b[0m         \u001b[39mstr\u001b[39m(\u001b[39mself\u001b[39m\u001b[39m.\u001b[39msignature\u001b[39m.\u001b[39mname),\n\u001b[0;32m    387\u001b[0m         num_outputs\u001b[39m=\u001b[39m\u001b[39mself\u001b[39m\u001b[39m.\u001b[39m_num_outputs,\n\u001b[1;32m   (...)\u001b[0m\n\u001b[0;32m    390\u001b[0m         ctx\u001b[39m=\u001b[39mctx,\n\u001b[0;32m    391\u001b[0m         cancellation_manager\u001b[39m=\u001b[39mcancellation_manager)\n",
      "File \u001b[1;32mc:\\Users\\aminr\\freelance\\Project_air_polution\\NNDL-HW4\\air polution\\air_polution_prediction\\venv\\lib\\site-packages\\tensorflow\\python\\eager\\execute.py:52\u001b[0m, in \u001b[0;36mquick_execute\u001b[1;34m(op_name, num_outputs, inputs, attrs, ctx, name)\u001b[0m\n\u001b[0;32m     50\u001b[0m \u001b[39mtry\u001b[39;00m:\n\u001b[0;32m     51\u001b[0m   ctx\u001b[39m.\u001b[39mensure_initialized()\n\u001b[1;32m---> 52\u001b[0m   tensors \u001b[39m=\u001b[39m pywrap_tfe\u001b[39m.\u001b[39;49mTFE_Py_Execute(ctx\u001b[39m.\u001b[39;49m_handle, device_name, op_name,\n\u001b[0;32m     53\u001b[0m                                       inputs, attrs, num_outputs)\n\u001b[0;32m     54\u001b[0m \u001b[39mexcept\u001b[39;00m core\u001b[39m.\u001b[39m_NotOkStatusException \u001b[39mas\u001b[39;00m e:\n\u001b[0;32m     55\u001b[0m   \u001b[39mif\u001b[39;00m name \u001b[39mis\u001b[39;00m \u001b[39mnot\u001b[39;00m \u001b[39mNone\u001b[39;00m:\n",
      "\u001b[1;31mKeyboardInterrupt\u001b[0m: "
     ]
    }
   ],
   "source": [
    "log_dir = \"logs\\\\\" + datetime.datetime.now().strftime(\"%d-%m-%Y_%H%M%S\")\n",
    "tensorboard_callback = tf.keras.callbacks.TensorBoard(log_dir=log_dir, histogram_freq=1)\n",
    "\n",
    "history = model.fit(train_set,\n",
    "                    epochs=1000,\n",
    "                    steps_per_epoch=TRAIN_STEP,\n",
    "                    validation_data=test_set,\n",
    "                    validation_steps=VALIDATION_STEP,\n",
    "                    verbose=1,\n",
    "                    callbacks=[tensorboard_callback])"
   ]
  },
  {
   "cell_type": "code",
   "execution_count": 41,
   "metadata": {},
   "outputs": [],
   "source": [
    "arr = np.array([[1,2,4] , [6,3,6] , [42,6,2]])"
   ]
  },
  {
   "cell_type": "code",
   "execution_count": 42,
   "metadata": {},
   "outputs": [],
   "source": [
    "from sklearn.preprocessing import MinMaxScaler"
   ]
  },
  {
   "cell_type": "code",
   "execution_count": 43,
   "metadata": {},
   "outputs": [
    {
     "data": {
      "text/plain": [
       "array([[0.        , 0.        , 0.5       ],\n",
       "       [0.12195122, 0.25      , 1.        ],\n",
       "       [1.        , 1.        , 0.        ]])"
      ]
     },
     "execution_count": 43,
     "metadata": {},
     "output_type": "execute_result"
    }
   ],
   "source": [
    "s = MinMaxScaler()\n",
    "s.fit_transform(arr)"
   ]
  },
  {
   "cell_type": "code",
   "execution_count": 44,
   "metadata": {},
   "outputs": [
    {
     "data": {
      "text/plain": [
       "array([[ 1,  2,  4],\n",
       "       [ 6,  3,  6],\n",
       "       [42,  6,  2]])"
      ]
     },
     "execution_count": 44,
     "metadata": {},
     "output_type": "execute_result"
    }
   ],
   "source": [
    "arr"
   ]
  },
  {
   "cell_type": "code",
   "execution_count": 45,
   "metadata": {},
   "outputs": [
    {
     "data": {
      "text/plain": [
       "array([[ 1.,  2.,  4.],\n",
       "       [ 6.,  3.,  6.],\n",
       "       [42.,  6.,  2.]])"
      ]
     },
     "execution_count": 45,
     "metadata": {},
     "output_type": "execute_result"
    }
   ],
   "source": [
    "s.inverse_transform(s.fit_transform(arr))"
   ]
  }
 ],
 "metadata": {
  "kernelspec": {
   "display_name": "venv",
   "language": "python",
   "name": "python3"
  },
  "language_info": {
   "codemirror_mode": {
    "name": "ipython",
    "version": 3
   },
   "file_extension": ".py",
   "mimetype": "text/x-python",
   "name": "python",
   "nbconvert_exporter": "python",
   "pygments_lexer": "ipython3",
   "version": "3.9.7"
  },
  "orig_nbformat": 4,
  "vscode": {
   "interpreter": {
    "hash": "0966355c89bf079f26f02f46087353bb987e2f75ab4953120b1bd6a44d9361d6"
   }
  }
 },
 "nbformat": 4,
 "nbformat_minor": 2
}
